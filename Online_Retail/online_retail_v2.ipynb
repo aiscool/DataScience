{
 "cells": [
  {
   "cell_type": "code",
   "execution_count": 2,
   "metadata": {},
   "outputs": [],
   "source": [
    "import pandas as pd\n",
    "import numpy as np\n",
    "import matplotlib.pyplot as plt\n",
    "\n",
    "from mlxtend.frequent_patterns import apriori"
   ]
  },
  {
   "cell_type": "markdown",
   "metadata": {
    "collapsed": true
   },
   "source": [
    "## Read csv file"
   ]
  },
  {
   "cell_type": "code",
   "execution_count": 3,
   "metadata": {
    "collapsed": true
   },
   "outputs": [],
   "source": [
    "df = pd.read_csv('Online Retail.csv', encoding='utf-8', low_memory=False)"
   ]
  },
  {
   "cell_type": "code",
   "execution_count": 4,
   "metadata": {},
   "outputs": [
    {
     "data": {
      "text/html": [
       "<div>\n",
       "<style>\n",
       "    .dataframe thead tr:only-child th {\n",
       "        text-align: right;\n",
       "    }\n",
       "\n",
       "    .dataframe thead th {\n",
       "        text-align: left;\n",
       "    }\n",
       "\n",
       "    .dataframe tbody tr th {\n",
       "        vertical-align: top;\n",
       "    }\n",
       "</style>\n",
       "<table border=\"1\" class=\"dataframe\">\n",
       "  <thead>\n",
       "    <tr style=\"text-align: right;\">\n",
       "      <th></th>\n",
       "      <th>InvoiceNo</th>\n",
       "      <th>StockCode</th>\n",
       "      <th>Description</th>\n",
       "      <th>Quantity</th>\n",
       "      <th>InvoiceDate</th>\n",
       "      <th>UnitPrice</th>\n",
       "      <th>CustomerID</th>\n",
       "      <th>Country</th>\n",
       "    </tr>\n",
       "  </thead>\n",
       "  <tbody>\n",
       "    <tr>\n",
       "      <th>541904</th>\n",
       "      <td>581587</td>\n",
       "      <td>22613</td>\n",
       "      <td>PACK OF 20 SPACEBOY NAPKINS</td>\n",
       "      <td>12</td>\n",
       "      <td>12/9/2011 12:50</td>\n",
       "      <td>0.85</td>\n",
       "      <td>12680.0</td>\n",
       "      <td>France</td>\n",
       "    </tr>\n",
       "    <tr>\n",
       "      <th>541905</th>\n",
       "      <td>581587</td>\n",
       "      <td>22899</td>\n",
       "      <td>CHILDREN'S APRON DOLLY GIRL</td>\n",
       "      <td>6</td>\n",
       "      <td>12/9/2011 12:50</td>\n",
       "      <td>2.10</td>\n",
       "      <td>12680.0</td>\n",
       "      <td>France</td>\n",
       "    </tr>\n",
       "    <tr>\n",
       "      <th>541906</th>\n",
       "      <td>581587</td>\n",
       "      <td>23254</td>\n",
       "      <td>CHILDRENS CUTLERY DOLLY GIRL</td>\n",
       "      <td>4</td>\n",
       "      <td>12/9/2011 12:50</td>\n",
       "      <td>4.15</td>\n",
       "      <td>12680.0</td>\n",
       "      <td>France</td>\n",
       "    </tr>\n",
       "    <tr>\n",
       "      <th>541907</th>\n",
       "      <td>581587</td>\n",
       "      <td>23255</td>\n",
       "      <td>CHILDRENS CUTLERY CIRCUS PARADE</td>\n",
       "      <td>4</td>\n",
       "      <td>12/9/2011 12:50</td>\n",
       "      <td>4.15</td>\n",
       "      <td>12680.0</td>\n",
       "      <td>France</td>\n",
       "    </tr>\n",
       "    <tr>\n",
       "      <th>541908</th>\n",
       "      <td>581587</td>\n",
       "      <td>22138</td>\n",
       "      <td>BAKING SET 9 PIECE RETROSPOT</td>\n",
       "      <td>3</td>\n",
       "      <td>12/9/2011 12:50</td>\n",
       "      <td>4.95</td>\n",
       "      <td>12680.0</td>\n",
       "      <td>France</td>\n",
       "    </tr>\n",
       "  </tbody>\n",
       "</table>\n",
       "</div>"
      ],
      "text/plain": [
       "       InvoiceNo StockCode                      Description  Quantity  \\\n",
       "541904    581587     22613      PACK OF 20 SPACEBOY NAPKINS        12   \n",
       "541905    581587     22899     CHILDREN'S APRON DOLLY GIRL          6   \n",
       "541906    581587     23254    CHILDRENS CUTLERY DOLLY GIRL          4   \n",
       "541907    581587     23255  CHILDRENS CUTLERY CIRCUS PARADE         4   \n",
       "541908    581587     22138    BAKING SET 9 PIECE RETROSPOT          3   \n",
       "\n",
       "            InvoiceDate  UnitPrice  CustomerID Country  \n",
       "541904  12/9/2011 12:50       0.85     12680.0  France  \n",
       "541905  12/9/2011 12:50       2.10     12680.0  France  \n",
       "541906  12/9/2011 12:50       4.15     12680.0  France  \n",
       "541907  12/9/2011 12:50       4.15     12680.0  France  \n",
       "541908  12/9/2011 12:50       4.95     12680.0  France  "
      ]
     },
     "execution_count": 4,
     "metadata": {},
     "output_type": "execute_result"
    }
   ],
   "source": [
    "df.tail(5)"
   ]
  },
  {
   "cell_type": "markdown",
   "metadata": {},
   "source": [
    "## Exploratory Data Analysis"
   ]
  },
  {
   "cell_type": "markdown",
   "metadata": {},
   "source": [
    "### How many products they have sell?"
   ]
  },
  {
   "cell_type": "code",
   "execution_count": 8,
   "metadata": {},
   "outputs": [
    {
     "name": "stdout",
     "output_type": "stream",
     "text": [
      "They have 4224 products.\n"
     ]
    }
   ],
   "source": [
    "print('They have {} products.'.format(len(df['Description'].unique())))"
   ]
  },
  {
   "cell_type": "markdown",
   "metadata": {},
   "source": [
    "## How many transactions?"
   ]
  },
  {
   "cell_type": "code",
   "execution_count": 9,
   "metadata": {},
   "outputs": [
    {
     "name": "stdout",
     "output_type": "stream",
     "text": [
      "25900 transactions.\n"
     ]
    }
   ],
   "source": [
    "print('{} transactions.'.format(len(df['InvoiceNo'].unique())))"
   ]
  },
  {
   "cell_type": "code",
   "execution_count": 15,
   "metadata": {},
   "outputs": [
    {
     "data": {
      "text/plain": [
       "Description\n",
       " 4 PURPLE FLOCK DINNER CANDLES          144\n",
       " 50'S CHRISTMAS GIFT BAG LARGE         1913\n",
       " DOLLY GIRL BEAKER                     2448\n",
       " I LOVE LONDON MINI BACKPACK            389\n",
       " I LOVE LONDON MINI RUCKSACK              1\n",
       " NINE DRAWER OFFICE TIDY                 59\n",
       " OVAL WALL MIRROR DIAMANTE              233\n",
       " RED SPOT GIFT BAG LARGE               1727\n",
       " SET 2 TEA TOWELS I LOVE LONDON        2781\n",
       " SPACEBOY BABY GIFT SET                 493\n",
       " TOADSTOOL BEDSIDE LIGHT                  2\n",
       " TRELLIS COAT RACK                      226\n",
       "*Boombox Ipod Classic                     1\n",
       "*USB Office Mirror Ball                   2\n",
       "10 COLOUR SPACEBOY PEN                 6392\n",
       "12 COLOURED PARTY BALLOONS             2135\n",
       "12 DAISY PEGS IN WOOD BOX               349\n",
       "12 EGG HOUSE PAINTED WOOD               148\n",
       "12 HANGING EGGS HAND PAINTED             42\n",
       "12 IVORY ROSE PEG PLACE SETTINGS        968\n",
       "12 MESSAGE CARDS WITH ENVELOPES        1739\n",
       "12 PENCIL SMALL TUBE WOODLAND          4502\n",
       "12 PENCILS SMALL TUBE RED RETROSPOT    6520\n",
       "12 PENCILS SMALL TUBE SKULL            6417\n",
       "12 PENCILS TALL TUBE POSY              3788\n",
       "12 PENCILS TALL TUBE RED RETROSPOT     2739\n",
       "12 PENCILS TALL TUBE SKULLS            2152\n",
       "12 PENCILS TALL TUBE WOODLAND          1957\n",
       "12 PINK HEN+CHICKS IN BASKET             35\n",
       "12 PINK ROSE PEG PLACE SETTINGS         210\n",
       "                                       ... \n",
       "test                                      1\n",
       "throw away                            -5368\n",
       "thrown away                           -4110\n",
       "thrown away-can't sell                -2472\n",
       "thrown away-can't sell.                -524\n",
       "to push order througha s stock was       10\n",
       "water damage                            -50\n",
       "water damaged                           -15\n",
       "website fixed                           110\n",
       "wet                                     -48\n",
       "wet boxes                              -288\n",
       "wet damaged                            -509\n",
       "wet pallet                            -1608\n",
       "wet rusty                             -1152\n",
       "wet/rusty                               -60\n",
       "wet?                                   -153\n",
       "wrong barcode                          -323\n",
       "wrong barcode (22467)                  -178\n",
       "wrong code                             -110\n",
       "wrong code?                            -100\n",
       "wrongly coded 20713                    -200\n",
       "wrongly coded 23343                    1000\n",
       "wrongly coded-23343                    -800\n",
       "wrongly marked                           48\n",
       "wrongly marked 23343                    200\n",
       "wrongly marked carton 22804            -256\n",
       "wrongly marked. 23343 in box          -3100\n",
       "wrongly sold (22719) barcode            170\n",
       "wrongly sold as sets                   -600\n",
       "wrongly sold sets                      -975\n",
       "Name: Quantity, Length: 4223, dtype: int64"
      ]
     },
     "execution_count": 15,
     "metadata": {},
     "output_type": "execute_result"
    }
   ],
   "source": [
    "df.groupby('Description')['Quantity'].sum()"
   ]
  },
  {
   "cell_type": "markdown",
   "metadata": {},
   "source": [
    "Wow there are negative values in the quantity? Maybe customers cancel the transaction, thats why the values become negative. Need to discard this transaction is it will affect our analysis."
   ]
  },
  {
   "cell_type": "markdown",
   "metadata": {},
   "source": [
    "## Remove product that have negative values in quantity"
   ]
  },
  {
   "cell_type": "code",
   "execution_count": 20,
   "metadata": {},
   "outputs": [],
   "source": [
    "# get the list transaction that have negative values\n",
    "\n",
    "index_neg_quantity = df.index[df['Quantity'] < 0].tolist()"
   ]
  },
  {
   "cell_type": "code",
   "execution_count": 21,
   "metadata": {},
   "outputs": [
    {
     "data": {
      "text/plain": [
       "10624"
      ]
     },
     "execution_count": 21,
     "metadata": {},
     "output_type": "execute_result"
    }
   ],
   "source": [
    "len(index_neg_quantity)"
   ]
  },
  {
   "cell_type": "code",
   "execution_count": 25,
   "metadata": {},
   "outputs": [
    {
     "data": {
      "text/html": [
       "<div>\n",
       "<style>\n",
       "    .dataframe thead tr:only-child th {\n",
       "        text-align: right;\n",
       "    }\n",
       "\n",
       "    .dataframe thead th {\n",
       "        text-align: left;\n",
       "    }\n",
       "\n",
       "    .dataframe tbody tr th {\n",
       "        vertical-align: top;\n",
       "    }\n",
       "</style>\n",
       "<table border=\"1\" class=\"dataframe\">\n",
       "  <thead>\n",
       "    <tr style=\"text-align: right;\">\n",
       "      <th></th>\n",
       "      <th>InvoiceNo</th>\n",
       "      <th>StockCode</th>\n",
       "      <th>Description</th>\n",
       "      <th>Quantity</th>\n",
       "      <th>InvoiceDate</th>\n",
       "      <th>UnitPrice</th>\n",
       "      <th>CustomerID</th>\n",
       "      <th>Country</th>\n",
       "    </tr>\n",
       "  </thead>\n",
       "  <tbody>\n",
       "    <tr>\n",
       "      <th>141</th>\n",
       "      <td>C536379</td>\n",
       "      <td>D</td>\n",
       "      <td>Discount</td>\n",
       "      <td>-1</td>\n",
       "      <td>12/1/2010 9:41</td>\n",
       "      <td>27.50</td>\n",
       "      <td>14527.0</td>\n",
       "      <td>United Kingdom</td>\n",
       "    </tr>\n",
       "    <tr>\n",
       "      <th>154</th>\n",
       "      <td>C536383</td>\n",
       "      <td>35004C</td>\n",
       "      <td>SET OF 3 COLOURED  FLYING DUCKS</td>\n",
       "      <td>-1</td>\n",
       "      <td>12/1/2010 9:49</td>\n",
       "      <td>4.65</td>\n",
       "      <td>15311.0</td>\n",
       "      <td>United Kingdom</td>\n",
       "    </tr>\n",
       "    <tr>\n",
       "      <th>235</th>\n",
       "      <td>C536391</td>\n",
       "      <td>22556</td>\n",
       "      <td>PLASTERS IN TIN CIRCUS PARADE</td>\n",
       "      <td>-12</td>\n",
       "      <td>12/1/2010 10:24</td>\n",
       "      <td>1.65</td>\n",
       "      <td>17548.0</td>\n",
       "      <td>United Kingdom</td>\n",
       "    </tr>\n",
       "    <tr>\n",
       "      <th>236</th>\n",
       "      <td>C536391</td>\n",
       "      <td>21984</td>\n",
       "      <td>PACK OF 12 PINK PAISLEY TISSUES</td>\n",
       "      <td>-24</td>\n",
       "      <td>12/1/2010 10:24</td>\n",
       "      <td>0.29</td>\n",
       "      <td>17548.0</td>\n",
       "      <td>United Kingdom</td>\n",
       "    </tr>\n",
       "    <tr>\n",
       "      <th>237</th>\n",
       "      <td>C536391</td>\n",
       "      <td>21983</td>\n",
       "      <td>PACK OF 12 BLUE PAISLEY TISSUES</td>\n",
       "      <td>-24</td>\n",
       "      <td>12/1/2010 10:24</td>\n",
       "      <td>0.29</td>\n",
       "      <td>17548.0</td>\n",
       "      <td>United Kingdom</td>\n",
       "    </tr>\n",
       "    <tr>\n",
       "      <th>238</th>\n",
       "      <td>C536391</td>\n",
       "      <td>21980</td>\n",
       "      <td>PACK OF 12 RED RETROSPOT TISSUES</td>\n",
       "      <td>-24</td>\n",
       "      <td>12/1/2010 10:24</td>\n",
       "      <td>0.29</td>\n",
       "      <td>17548.0</td>\n",
       "      <td>United Kingdom</td>\n",
       "    </tr>\n",
       "    <tr>\n",
       "      <th>239</th>\n",
       "      <td>C536391</td>\n",
       "      <td>21484</td>\n",
       "      <td>CHICK GREY HOT WATER BOTTLE</td>\n",
       "      <td>-12</td>\n",
       "      <td>12/1/2010 10:24</td>\n",
       "      <td>3.45</td>\n",
       "      <td>17548.0</td>\n",
       "      <td>United Kingdom</td>\n",
       "    </tr>\n",
       "    <tr>\n",
       "      <th>240</th>\n",
       "      <td>C536391</td>\n",
       "      <td>22557</td>\n",
       "      <td>PLASTERS IN TIN VINTAGE PAISLEY</td>\n",
       "      <td>-12</td>\n",
       "      <td>12/1/2010 10:24</td>\n",
       "      <td>1.65</td>\n",
       "      <td>17548.0</td>\n",
       "      <td>United Kingdom</td>\n",
       "    </tr>\n",
       "    <tr>\n",
       "      <th>241</th>\n",
       "      <td>C536391</td>\n",
       "      <td>22553</td>\n",
       "      <td>PLASTERS IN TIN SKULLS</td>\n",
       "      <td>-24</td>\n",
       "      <td>12/1/2010 10:24</td>\n",
       "      <td>1.65</td>\n",
       "      <td>17548.0</td>\n",
       "      <td>United Kingdom</td>\n",
       "    </tr>\n",
       "    <tr>\n",
       "      <th>939</th>\n",
       "      <td>C536506</td>\n",
       "      <td>22960</td>\n",
       "      <td>JAM MAKING SET WITH JARS</td>\n",
       "      <td>-6</td>\n",
       "      <td>12/1/2010 12:38</td>\n",
       "      <td>4.25</td>\n",
       "      <td>17897.0</td>\n",
       "      <td>United Kingdom</td>\n",
       "    </tr>\n",
       "  </tbody>\n",
       "</table>\n",
       "</div>"
      ],
      "text/plain": [
       "    InvoiceNo StockCode                        Description  Quantity  \\\n",
       "141   C536379         D                           Discount        -1   \n",
       "154   C536383    35004C    SET OF 3 COLOURED  FLYING DUCKS        -1   \n",
       "235   C536391     22556     PLASTERS IN TIN CIRCUS PARADE        -12   \n",
       "236   C536391     21984   PACK OF 12 PINK PAISLEY TISSUES        -24   \n",
       "237   C536391     21983   PACK OF 12 BLUE PAISLEY TISSUES        -24   \n",
       "238   C536391     21980  PACK OF 12 RED RETROSPOT TISSUES        -24   \n",
       "239   C536391     21484        CHICK GREY HOT WATER BOTTLE       -12   \n",
       "240   C536391     22557   PLASTERS IN TIN VINTAGE PAISLEY        -12   \n",
       "241   C536391     22553             PLASTERS IN TIN SKULLS       -24   \n",
       "939   C536506     22960           JAM MAKING SET WITH JARS        -6   \n",
       "\n",
       "         InvoiceDate  UnitPrice  CustomerID         Country  \n",
       "141   12/1/2010 9:41      27.50     14527.0  United Kingdom  \n",
       "154   12/1/2010 9:49       4.65     15311.0  United Kingdom  \n",
       "235  12/1/2010 10:24       1.65     17548.0  United Kingdom  \n",
       "236  12/1/2010 10:24       0.29     17548.0  United Kingdom  \n",
       "237  12/1/2010 10:24       0.29     17548.0  United Kingdom  \n",
       "238  12/1/2010 10:24       0.29     17548.0  United Kingdom  \n",
       "239  12/1/2010 10:24       3.45     17548.0  United Kingdom  \n",
       "240  12/1/2010 10:24       1.65     17548.0  United Kingdom  \n",
       "241  12/1/2010 10:24       1.65     17548.0  United Kingdom  \n",
       "939  12/1/2010 12:38       4.25     17897.0  United Kingdom  "
      ]
     },
     "execution_count": 25,
     "metadata": {},
     "output_type": "execute_result"
    }
   ],
   "source": [
    "(df.iloc[index_neg_quantity]).head(10)"
   ]
  },
  {
   "cell_type": "markdown",
   "metadata": {},
   "source": [
    "Yeah confirm the quantity is negative value! So just drop it!"
   ]
  },
  {
   "cell_type": "code",
   "execution_count": 26,
   "metadata": {
    "collapsed": true
   },
   "outputs": [],
   "source": [
    "df_noneg = df.drop(index_neg_quantity)"
   ]
  },
  {
   "cell_type": "code",
   "execution_count": 28,
   "metadata": {},
   "outputs": [
    {
     "data": {
      "text/plain": [
       "(531285, 8)"
      ]
     },
     "execution_count": 28,
     "metadata": {},
     "output_type": "execute_result"
    }
   ],
   "source": [
    "df_noneg.shape"
   ]
  },
  {
   "cell_type": "code",
   "execution_count": 29,
   "metadata": {},
   "outputs": [
    {
     "data": {
      "text/plain": [
       "(541909, 8)"
      ]
     },
     "execution_count": 29,
     "metadata": {},
     "output_type": "execute_result"
    }
   ],
   "source": [
    "df.shape"
   ]
  },
  {
   "cell_type": "markdown",
   "metadata": {},
   "source": [
    "So df_noneg is our new dataframe that only have positive values in quantity. We will use this dataframe for further analysis."
   ]
  },
  {
   "cell_type": "markdown",
   "metadata": {},
   "source": [
    "## Check missing value?"
   ]
  },
  {
   "cell_type": "code",
   "execution_count": 30,
   "metadata": {},
   "outputs": [
    {
     "data": {
      "text/plain": [
       "InvoiceNo           0\n",
       "StockCode           0\n",
       "Description       592\n",
       "Quantity            0\n",
       "InvoiceDate         0\n",
       "UnitPrice           0\n",
       "CustomerID     133361\n",
       "Country             0\n",
       "dtype: int64"
      ]
     },
     "execution_count": 30,
     "metadata": {},
     "output_type": "execute_result"
    }
   ],
   "source": [
    "df_noneg.isnull().sum()"
   ]
  },
  {
   "cell_type": "markdown",
   "metadata": {},
   "source": [
    "Wow so there are more than 100k customer ID missing? Maybe they do some testing to the system without entering the customer ID or maybe error from the system. Let see how many percents the data missing in column Description and CustomerID"
   ]
  },
  {
   "cell_type": "code",
   "execution_count": 36,
   "metadata": {},
   "outputs": [
    {
     "name": "stdout",
     "output_type": "stream",
     "text": [
      "0.111% of data are missing for Description column.\n",
      "25.1% of data are missing for CustomerID column.\n"
     ]
    }
   ],
   "source": [
    "missing_Desc = (df_noneg['Description'].isnull().sum()/len(df_noneg)) * 100\n",
    "missing_CustID = (df_noneg['CustomerID'].isnull().sum()/len(df_noneg)) * 100\n",
    "\n",
    "print('{:.3}% of data are missing for Description column.'.format(missing_Desc))\n",
    "print('{:.3}% of data are missing for CustomerID column.'.format(missing_CustID))"
   ]
  },
  {
   "cell_type": "markdown",
   "metadata": {},
   "source": [
    "25% is quite high for CustomerID, in fact this column means nothing since it is just a customer ID which it is just an ID. But afraid that this missing data caused by system error, it is better we removed all the rows that have missing data in customer ID and description."
   ]
  },
  {
   "cell_type": "code",
   "execution_count": 37,
   "metadata": {
    "collapsed": true
   },
   "outputs": [],
   "source": [
    "df_nomissing = df_noneg.dropna()"
   ]
  },
  {
   "cell_type": "code",
   "execution_count": 38,
   "metadata": {},
   "outputs": [
    {
     "data": {
      "text/plain": [
       "InvoiceNo      0\n",
       "StockCode      0\n",
       "Description    0\n",
       "Quantity       0\n",
       "InvoiceDate    0\n",
       "UnitPrice      0\n",
       "CustomerID     0\n",
       "Country        0\n",
       "dtype: int64"
      ]
     },
     "execution_count": 38,
     "metadata": {},
     "output_type": "execute_result"
    }
   ],
   "source": [
    "df_nomissing.isnull().sum()"
   ]
  },
  {
   "cell_type": "markdown",
   "metadata": {},
   "source": [
    "Nice! So our data got no missing value"
   ]
  },
  {
   "cell_type": "markdown",
   "metadata": {},
   "source": [
    "## Analysis on country"
   ]
  },
  {
   "cell_type": "markdown",
   "metadata": {},
   "source": [
    "Since our data is large, so maybe we need to focus on each country first."
   ]
  },
  {
   "cell_type": "code",
   "execution_count": 45,
   "metadata": {},
   "outputs": [
    {
     "data": {
      "text/plain": [
       "<matplotlib.axes._subplots.AxesSubplot at 0x7faf8d3249b0>"
      ]
     },
     "execution_count": 45,
     "metadata": {},
     "output_type": "execute_result"
    },
    {
     "data": {
      "image/png": "[encoded data removed]",
      "text/plain": [
       "<matplotlib.figure.Figure at 0x7faf8d3249e8>"
      ]
     },
     "metadata": {},
     "output_type": "display_data"
    }
   ],
   "source": [
    "% matplotlib inline\n",
    "plt.figure(figsize=(20,10))\n",
    "df_nomissing['Country'].value_counts().plot(kind='bar')"
   ]
  },
  {
   "cell_type": "markdown",
   "metadata": {},
   "source": [
    "Walaoweh! UK has the highest transactions. And the lowest one is from Saudi Arabia."
   ]
  },
  {
   "cell_type": "markdown",
   "metadata": {},
   "source": [
    "### Top 5 product buy for each countries"
   ]
  },
  {
   "cell_type": "code",
   "execution_count": 48,
   "metadata": {},
   "outputs": [
    {
     "data": {
      "text/plain": [
       "Index(['InvoiceNo', 'StockCode', 'Description', 'Quantity', 'InvoiceDate',\n",
       "       'UnitPrice', 'CustomerID', 'Country'],\n",
       "      dtype='object')"
      ]
     },
     "execution_count": 48,
     "metadata": {},
     "output_type": "execute_result"
    }
   ],
   "source": [
    "df_nomissing.columns"
   ]
  },
  {
   "cell_type": "code",
   "execution_count": 58,
   "metadata": {},
   "outputs": [
    {
     "name": "stdout",
     "output_type": "stream",
     "text": [
      "3665 unique stock codes\n"
     ]
    }
   ],
   "source": [
    "print('{} unique stock codes'.format(len(df_nomissing['StockCode'].unique())))"
   ]
  },
  {
   "cell_type": "code",
   "execution_count": 57,
   "metadata": {},
   "outputs": [
    {
     "name": "stdout",
     "output_type": "stream",
     "text": [
      "3877 unique descriptions\n"
     ]
    }
   ],
   "source": [
    "print('{} unique descriptions'.format(len(df_nomissing['Description'].unique())))"
   ]
  },
  {
   "cell_type": "markdown",
   "metadata": {},
   "source": [
    "So from here, we can see that the description of the same stockcode maybe different."
   ]
  },
  {
   "cell_type": "code",
   "execution_count": 52,
   "metadata": {},
   "outputs": [],
   "source": [
    "list_more_1_desc = [ stock for stock in df_nomissing['StockCode'].unique() \\\n",
    "    if len(df_nomissing[df_nomissing['StockCode'] == stock]) > 1]"
   ]
  },
  {
   "cell_type": "markdown",
   "metadata": {},
   "source": [
    "To see one stock code that have more than one description"
   ]
  },
  {
   "cell_type": "code",
   "execution_count": 56,
   "metadata": {},
   "outputs": [
    {
     "data": {
      "text/plain": [
       "array(['WHITE HANGING HEART T-LIGHT HOLDER',\n",
       "       'CREAM HANGING HEART T-LIGHT HOLDER'], dtype=object)"
      ]
     },
     "execution_count": 56,
     "metadata": {},
     "output_type": "execute_result"
    }
   ],
   "source": [
    "df_oneStockCode = df_nomissing[df_nomissing['StockCode'] == list_more_1_desc[0]]\n",
    "df_oneStockCode['Description'].unique()"
   ]
  },
  {
   "cell_type": "markdown",
   "metadata": {},
   "source": [
    "So from this result, I decided to use stock code as a product."
   ]
  },
  {
   "cell_type": "code",
   "execution_count": 60,
   "metadata": {},
   "outputs": [],
   "source": [
    "list_country = df_nomissing['Country'].unique()"
   ]
  },
  {
   "cell_type": "code",
   "execution_count": 78,
   "metadata": {},
   "outputs": [
    {
     "name": "stdout",
     "output_type": "stream",
     "text": [
      "Country : United Kingdom\n",
      "StockCode\n",
      "23843     80995\n",
      "23166     76919\n",
      "84077     49182\n",
      "22197     45632\n",
      "85099B    41981\n",
      "Name: Quantity, dtype: int64\n",
      "\n",
      "\n",
      "\n",
      "Country : France\n",
      "StockCode\n",
      "23084    4000\n",
      "22492    2196\n",
      "21731    1291\n",
      "21086    1272\n",
      "84879    1204\n",
      "Name: Quantity, dtype: int64\n",
      "\n",
      "\n",
      "\n",
      "Country : Australia\n",
      "StockCode\n",
      "22492    2952\n",
      "23084    1884\n",
      "21915    1704\n",
      "21731    1344\n",
      "22969    1080\n",
      "Name: Quantity, dtype: int64\n",
      "\n",
      "\n",
      "\n",
      "Country : Netherlands\n",
      "StockCode\n",
      "23084    4801\n",
      "22629    4528\n",
      "22630    4132\n",
      "21212    4128\n",
      "22326    3132\n",
      "Name: Quantity, dtype: int64\n",
      "\n",
      "\n",
      "\n",
      "Country : Germany\n",
      "StockCode\n",
      "22326    1233\n",
      "15036    1164\n",
      "POST     1114\n",
      "20719    1020\n",
      "21212    1002\n",
      "Name: Quantity, dtype: int64\n",
      "\n",
      "\n",
      "\n",
      "Country : Norway\n",
      "StockCode\n",
      "16008    576\n",
      "22693    504\n",
      "22197    444\n",
      "72232    384\n",
      "84050    252\n",
      "Name: Quantity, dtype: int64\n",
      "\n",
      "\n",
      "\n",
      "Country : EIRE\n",
      "StockCode\n",
      "22197     1828\n",
      "21212     1632\n",
      "84991     1464\n",
      "17084R    1440\n",
      "22952     1440\n",
      "Name: Quantity, dtype: int64\n",
      "\n",
      "\n",
      "\n",
      "Country : Switzerland\n",
      "StockCode\n",
      "22554    636\n",
      "22326    480\n",
      "22551    468\n",
      "21212    432\n",
      "20719    340\n",
      "Name: Quantity, dtype: int64\n",
      "\n",
      "\n",
      "\n",
      "Country : Spain\n",
      "StockCode\n",
      "84997D    1089\n",
      "84997C    1013\n",
      "20728      558\n",
      "84879      417\n",
      "22384      406\n",
      "Name: Quantity, dtype: int64\n",
      "\n",
      "\n",
      "\n",
      "Country : Poland\n",
      "StockCode\n",
      "21232    168\n",
      "37448    144\n",
      "22961    108\n",
      "16016    100\n",
      "22059     96\n",
      "Name: Quantity, dtype: int64\n",
      "\n",
      "\n",
      "\n",
      "Country : Portugal\n",
      "StockCode\n",
      "22740    240\n",
      "84991    218\n",
      "20725    215\n",
      "22383    193\n",
      "22411    190\n",
      "Name: Quantity, dtype: int64\n",
      "\n",
      "\n",
      "\n",
      "Country : Italy\n",
      "StockCode\n",
      "51014A    240\n",
      "23445     200\n",
      "51014C    168\n",
      "22197     160\n",
      "51014L    120\n",
      "Name: Quantity, dtype: int64\n",
      "\n",
      "\n",
      "\n",
      "Country : Belgium\n",
      "StockCode\n",
      "21212    480\n",
      "22326    420\n",
      "22417    384\n",
      "22630    340\n",
      "22629    340\n",
      "Name: Quantity, dtype: int64\n",
      "\n",
      "\n",
      "\n",
      "Country : Lithuania\n",
      "StockCode\n",
      "22271    48\n",
      "21915    48\n",
      "20967    36\n",
      "21914    36\n",
      "22307    36\n",
      "Name: Quantity, dtype: int64\n",
      "\n",
      "\n",
      "\n",
      "Country : Japan\n",
      "StockCode\n",
      "23084    3408\n",
      "22328    1494\n",
      "22489    1201\n",
      "84077     577\n",
      "22492     577\n",
      "Name: Quantity, dtype: int64\n",
      "\n",
      "\n",
      "\n",
      "Country : Iceland\n",
      "StockCode\n",
      "23076     240\n",
      "84558A    126\n",
      "22492     108\n",
      "23084      84\n",
      "84992      72\n",
      "Name: Quantity, dtype: int64\n",
      "\n",
      "\n",
      "\n",
      "Country : Channel Islands\n",
      "StockCode\n",
      "21785     407\n",
      "85099B    250\n",
      "23199     220\n",
      "85099C    220\n",
      "22386     200\n",
      "Name: Quantity, dtype: int64\n",
      "\n",
      "\n",
      "\n",
      "Country : Denmark\n",
      "StockCode\n",
      "21915    288\n",
      "23296    280\n",
      "22467    270\n",
      "23295    256\n",
      "22630    160\n",
      "Name: Quantity, dtype: int64\n",
      "\n",
      "\n",
      "\n",
      "Country : Cyprus\n",
      "StockCode\n",
      "22335     384\n",
      "84568     288\n",
      "84598     288\n",
      "85123A    144\n",
      "22252      96\n",
      "Name: Quantity, dtype: int64\n",
      "\n",
      "\n",
      "\n",
      "Country : Sweden\n",
      "StockCode\n",
      "22492    2916\n",
      "84077    2304\n",
      "23310    1080\n",
      "22952     984\n",
      "21212     984\n",
      "Name: Quantity, dtype: int64\n",
      "\n",
      "\n",
      "\n",
      "Country : Finland\n",
      "StockCode\n",
      "84997D    552\n",
      "84997C    348\n",
      "84997A    232\n",
      "23077     200\n",
      "23078     192\n",
      "Name: Quantity, dtype: int64\n",
      "\n",
      "\n",
      "\n",
      "Country : Austria\n",
      "StockCode\n",
      "21918    288\n",
      "22546    240\n",
      "22584    144\n",
      "22582    144\n",
      "22128     48\n",
      "Name: Quantity, dtype: int64\n",
      "\n",
      "\n",
      "\n",
      "Country : Greece\n",
      "StockCode\n",
      "21615    48\n",
      "21616    48\n",
      "22604    32\n",
      "15034    24\n",
      "22697    24\n",
      "Name: Quantity, dtype: int64\n",
      "\n",
      "\n",
      "\n",
      "Country : Singapore\n",
      "StockCode\n",
      "22339    384\n",
      "22197    300\n",
      "22343    240\n",
      "21519    144\n",
      "22346     96\n",
      "Name: Quantity, dtype: int64\n",
      "\n",
      "\n",
      "\n",
      "Country : Lebanon\n",
      "StockCode\n",
      "84929    24\n",
      "47566    15\n",
      "21165    12\n",
      "22960    12\n",
      "22720    12\n",
      "Name: Quantity, dtype: int64\n",
      "\n",
      "\n",
      "\n",
      "Country : United Arab Emirates\n",
      "StockCode\n",
      "21700    72\n",
      "85215    72\n",
      "22492    36\n",
      "22092    36\n",
      "23231    25\n",
      "Name: Quantity, dtype: int64\n",
      "\n",
      "\n",
      "\n",
      "Country : Israel\n",
      "StockCode\n",
      "20719    120\n",
      "20724    110\n",
      "22326     96\n",
      "21669     96\n",
      "23170     72\n",
      "Name: Quantity, dtype: int64\n",
      "\n",
      "\n",
      "\n",
      "Country : Saudi Arabia\n",
      "StockCode\n",
      "22969    12\n",
      "22915    12\n",
      "22556    12\n",
      "22555    12\n",
      "22553    12\n",
      "Name: Quantity, dtype: int64\n",
      "\n",
      "\n",
      "\n",
      "Country : Czech Republic\n",
      "StockCode\n",
      "22578    72\n",
      "22579    72\n",
      "84755    48\n",
      "23271    48\n",
      "22231    36\n",
      "Name: Quantity, dtype: int64\n",
      "\n",
      "\n",
      "\n",
      "Country : Canada\n",
      "StockCode\n",
      "37370     504\n",
      "84077     288\n",
      "20727      50\n",
      "47593B     48\n",
      "10133      40\n",
      "Name: Quantity, dtype: int64\n",
      "\n",
      "\n",
      "\n",
      "Country : Unspecified\n",
      "StockCode\n",
      "23119    36\n",
      "22952    36\n",
      "22707    25\n",
      "21503    25\n",
      "22047    25\n",
      "Name: Quantity, dtype: int64\n",
      "\n",
      "\n",
      "\n",
      "Country : Brazil\n",
      "StockCode\n",
      "84971S    24\n",
      "22697     24\n",
      "21430     24\n",
      "22630     24\n",
      "22993     24\n",
      "Name: Quantity, dtype: int64\n",
      "\n",
      "\n",
      "\n",
      "Country : USA\n",
      "StockCode\n",
      "23366    88\n",
      "21124    72\n",
      "20975    72\n",
      "21121    72\n",
      "21122    72\n",
      "Name: Quantity, dtype: int64\n",
      "\n",
      "\n",
      "\n",
      "Country : European Community\n",
      "StockCode\n",
      "22572    24\n",
      "22571    24\n",
      "23308    24\n",
      "23307    24\n",
      "23210    24\n",
      "Name: Quantity, dtype: int64\n",
      "\n",
      "\n",
      "\n",
      "Country : Bahrain\n",
      "StockCode\n",
      "23076     96\n",
      "23077     60\n",
      "22693     24\n",
      "85040A    12\n",
      "37446      8\n",
      "Name: Quantity, dtype: int64\n",
      "\n",
      "\n",
      "\n",
      "Country : Malta\n",
      "StockCode\n",
      "72741     81\n",
      "22065     60\n",
      "22959     25\n",
      "22307     24\n",
      "85230A    24\n",
      "Name: Quantity, dtype: int64\n",
      "\n",
      "\n",
      "\n",
      "Country : RSA\n",
      "StockCode\n",
      "21889    12\n",
      "84375    12\n",
      "22915    12\n",
      "22585    12\n",
      "22620    12\n",
      "Name: Quantity, dtype: int64\n",
      "\n",
      "\n",
      "\n"
     ]
    }
   ],
   "source": [
    "for country in list_country:\n",
    "    df_country = df_nomissing[df_nomissing['Country'] == country]\n",
    "    total_quantity_products = df_country.groupby('StockCode')['Quantity'].sum()\n",
    "    print('Country : {}'.format(country))\n",
    "    print(total_quantity_products.sort_values(ascending=False)[:5]) # top 5 stockcodes with highest quantity\n",
    "    print('\\n\\n')"
   ]
  },
  {
   "cell_type": "markdown",
   "metadata": {},
   "source": [
    "## How many unique products sell for each country?\n",
    "## How many unique transactions for each country?\n",
    "## Ratio one transaction per products?"
   ]
  },
  {
   "cell_type": "code",
   "execution_count": 85,
   "metadata": {},
   "outputs": [
    {
     "name": "stdout",
     "output_type": "stream",
     "text": [
      "Number of product sell for United Kingdom is : 3645 products\n",
      "Number of transaction for United Kingdom is : 16649 transactions\n",
      "Ratio 1 transaction : 0.219 products\n",
      "\n",
      "Number of product sell for France is : 1522 products\n",
      "Number of transaction for France is : 389 transactions\n",
      "Ratio 1 transaction : 3.91 products\n",
      "\n",
      "Number of product sell for Australia is : 599 products\n",
      "Number of transaction for Australia is : 57 transactions\n",
      "Ratio 1 transaction : 10.5 products\n",
      "\n",
      "Number of product sell for Netherlands is : 783 products\n",
      "Number of transaction for Netherlands is : 95 transactions\n",
      "Ratio 1 transaction : 8.24 products\n",
      "\n",
      "Number of product sell for Germany is : 1665 products\n",
      "Number of transaction for Germany is : 457 transactions\n",
      "Ratio 1 transaction : 3.64 products\n",
      "\n",
      "Number of product sell for Norway is : 591 products\n",
      "Number of transaction for Norway is : 36 transactions\n",
      "Ratio 1 transaction : 16.4 products\n",
      "\n",
      "Number of product sell for EIRE is : 1943 products\n",
      "Number of transaction for EIRE is : 260 transactions\n",
      "Ratio 1 transaction : 7.47 products\n",
      "\n",
      "Number of product sell for Switzerland is : 947 products\n",
      "Number of transaction for Switzerland is : 51 transactions\n",
      "Ratio 1 transaction : 18.6 products\n",
      "\n",
      "Number of product sell for Spain is : 1091 products\n",
      "Number of transaction for Spain is : 90 transactions\n",
      "Ratio 1 transaction : 12.1 products\n",
      "\n",
      "Number of product sell for Poland is : 204 products\n",
      "Number of transaction for Poland is : 19 transactions\n",
      "Ratio 1 transaction : 10.7 products\n",
      "\n",
      "Number of product sell for Portugal is : 686 products\n",
      "Number of transaction for Portugal is : 57 transactions\n",
      "Ratio 1 transaction : 12.0 products\n",
      "\n",
      "Number of product sell for Italy is : 473 products\n",
      "Number of transaction for Italy is : 38 transactions\n",
      "Ratio 1 transaction : 12.4 products\n",
      "\n",
      "Number of product sell for Belgium is : 777 products\n",
      "Number of transaction for Belgium is : 98 transactions\n",
      "Ratio 1 transaction : 7.93 products\n",
      "\n",
      "Number of product sell for Lithuania is : 29 products\n",
      "Number of transaction for Lithuania is : 4 transactions\n",
      "Ratio 1 transaction : 7.25 products\n",
      "\n",
      "Number of product sell for Japan is : 215 products\n",
      "Number of transaction for Japan is : 19 transactions\n",
      "Ratio 1 transaction : 11.3 products\n",
      "\n",
      "Number of product sell for Iceland is : 103 products\n",
      "Number of transaction for Iceland is : 7 transactions\n",
      "Ratio 1 transaction : 14.7 products\n",
      "\n",
      "Number of product sell for Channel Islands is : 430 products\n",
      "Number of transaction for Channel Islands is : 26 transactions\n",
      "Ratio 1 transaction : 16.5 products\n",
      "\n",
      "Number of product sell for Denmark is : 251 products\n",
      "Number of transaction for Denmark is : 18 transactions\n",
      "Ratio 1 transaction : 13.9 products\n",
      "\n",
      "Number of product sell for Cyprus is : 498 products\n",
      "Number of transaction for Cyprus is : 16 transactions\n",
      "Ratio 1 transaction : 31.1 products\n",
      "\n",
      "Number of product sell for Sweden is : 261 products\n",
      "Number of transaction for Sweden is : 36 transactions\n",
      "Ratio 1 transaction : 7.25 products\n",
      "\n",
      "Number of product sell for Finland is : 458 products\n",
      "Number of transaction for Finland is : 41 transactions\n",
      "Ratio 1 transaction : 11.2 products\n",
      "\n",
      "Number of product sell for Austria is : 306 products\n",
      "Number of transaction for Austria is : 17 transactions\n",
      "Ratio 1 transaction : 18.0 products\n",
      "\n",
      "Number of product sell for Greece is : 138 products\n",
      "Number of transaction for Greece is : 5 transactions\n",
      "Ratio 1 transaction : 27.6 products\n",
      "\n",
      "Number of product sell for Singapore is : 178 products\n",
      "Number of transaction for Singapore is : 7 transactions\n",
      "Ratio 1 transaction : 25.4 products\n",
      "\n",
      "Number of product sell for Lebanon is : 45 products\n",
      "Number of transaction for Lebanon is : 1 transactions\n",
      "Ratio 1 transaction : 45.0 products\n",
      "\n",
      "Number of product sell for United Arab Emirates is : 68 products\n",
      "Number of transaction for United Arab Emirates is : 3 transactions\n",
      "Ratio 1 transaction : 22.7 products\n",
      "\n",
      "Number of product sell for Israel is : 219 products\n",
      "Number of transaction for Israel is : 5 transactions\n",
      "Ratio 1 transaction : 43.8 products\n",
      "\n",
      "Number of product sell for Saudi Arabia is : 9 products\n",
      "Number of transaction for Saudi Arabia is : 1 transactions\n",
      "Ratio 1 transaction : 9.0 products\n",
      "\n",
      "Number of product sell for Czech Republic is : 25 products\n",
      "Number of transaction for Czech Republic is : 2 transactions\n",
      "Ratio 1 transaction : 12.5 products\n",
      "\n",
      "Number of product sell for Canada is : 147 products\n",
      "Number of transaction for Canada is : 6 transactions\n",
      "Ratio 1 transaction : 24.5 products\n",
      "\n",
      "Number of product sell for Unspecified is : 213 products\n",
      "Number of transaction for Unspecified is : 8 transactions\n",
      "Ratio 1 transaction : 26.6 products\n",
      "\n",
      "Number of product sell for Brazil is : 32 products\n",
      "Number of transaction for Brazil is : 1 transactions\n",
      "Ratio 1 transaction : 32.0 products\n",
      "\n",
      "Number of product sell for USA is : 163 products\n",
      "Number of transaction for USA is : 5 transactions\n",
      "Ratio 1 transaction : 32.6 products\n",
      "\n",
      "Number of product sell for European Community is : 50 products\n",
      "Number of transaction for European Community is : 4 transactions\n",
      "Ratio 1 transaction : 12.5 products\n",
      "\n",
      "Number of product sell for Bahrain is : 16 products\n",
      "Number of transaction for Bahrain is : 2 transactions\n",
      "Ratio 1 transaction : 8.0 products\n",
      "\n",
      "Number of product sell for Malta is : 99 products\n",
      "Number of transaction for Malta is : 5 transactions\n",
      "Ratio 1 transaction : 19.8 products\n",
      "\n",
      "Number of product sell for RSA is : 58 products\n",
      "Number of transaction for RSA is : 1 transactions\n",
      "Ratio 1 transaction : 58.0 products\n",
      "\n"
     ]
    }
   ],
   "source": [
    "for country in list_country:\n",
    "    df_country = df_nomissing[df_nomissing['Country'] == country]\n",
    "    print('Number of product sell for {} is : {} products'.format(country, len(df_country['StockCode'].unique())))\n",
    "    print('Number of transaction for {} is : {} transactions'.format(country, len(df_country['InvoiceNo'].unique())))\n",
    "    print('Ratio 1 transaction : {:.3} products'. format((len(df_country['StockCode'].unique()) / len(df_country['InvoiceNo'].unique()))))\n",
    "    print()"
   ]
  }
 ],
 "metadata": {
  "kernelspec": {
   "display_name": "Python 3",
   "language": "python",
   "name": "python3"
  },
  "language_info": {
   "codemirror_mode": {
    "name": "ipython",
    "version": 3
   },
   "file_extension": ".py",
   "mimetype": "text/x-python",
   "name": "python",
   "nbconvert_exporter": "python",
   "pygments_lexer": "ipython3",
   "version": "3.5.2"
  }
 },
 "nbformat": 4,
 "nbformat_minor": 2
}
