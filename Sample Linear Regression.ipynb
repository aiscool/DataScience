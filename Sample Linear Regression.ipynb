{
 "cells": [
  {
   "cell_type": "code",
   "execution_count": null,
   "metadata": {
    "collapsed": true
   },
   "outputs": [],
   "source": [
    "import pandas as pd\n",
    "from sklearn.linear_model import LinearRegression\n",
    "\n",
    "\n",
    "# input\n",
    "df = pd.read_csv('inputfile.txt')\n",
    "\n",
    "\n",
    "# split dataset into training and testing\n",
    "# using sample method\n",
    "# frac = 0.7 -> 70% for training\n",
    "# random_state = 42\n",
    "\n",
    "df_train = df.sample(frac=0.7, random_state = 42)\n",
    "\n",
    "# for testing only use 30% from the dataset\n",
    "df_test = df.drop(df_train.index)\n",
    "\n",
    "# split the training and testing set to X = input and y = output\n",
    "train_X = df_train.drop('target_class', axis=1).values\n",
    "train_y = df_train['target_class'].values\n",
    "\n",
    "test_X = df_test.drop('target_class', axis=1).values\n",
    "test_y = df_test['target_class'].values\n",
    "\n",
    "\n",
    "# model the data linear regression\n",
    "\n",
    "lr = LinearRegression()\n",
    "lr.fit(train_X,train_y)\n",
    "\n",
    "print('Coefficient : ', lr.coef_)\n"
   ]
  }
 ],
 "metadata": {
  "kernelspec": {
   "display_name": "Python [default]",
   "language": "python",
   "name": "python3"
  },
  "language_info": {
   "codemirror_mode": {
    "name": "ipython",
    "version": 3
   },
   "file_extension": ".py",
   "mimetype": "text/x-python",
   "name": "python",
   "nbconvert_exporter": "python",
   "pygments_lexer": "ipython3",
   "version": "3.5.2"
  }
 },
 "nbformat": 4,
 "nbformat_minor": 2
}
